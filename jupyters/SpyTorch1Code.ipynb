{
 "cells": [
  {
   "cell_type": "code",
   "execution_count": 1,
   "metadata": {},
   "outputs": [],
   "source": [
    "import os\n",
    "\n",
    "import numpy as np\n",
    "import matplotlib.pyplot as plt\n",
    "from matplotlib.gridspec import GridSpec\n",
    "import seaborn as sns\n",
    "\n",
    "import torch\n",
    "import torch.nn as nn"
   ]
  },
  {
   "cell_type": "code",
   "execution_count": 2,
   "metadata": {},
   "outputs": [],
   "source": [
    "# 모델 구축을 위한 노드 개수 지정\n",
    "# 100 -> 4 -> 2\n",
    "\n",
    "nb_inputs = 100 # 입력층 노드 개수\n",
    "nb_hidden = 4   # 은닉층 노드 개수\n",
    "nb_outputs = 2  # 출력층 노드 개수(이진 분류)"
   ]
  },
  {
   "cell_type": "code",
   "execution_count": 3,
   "metadata": {},
   "outputs": [],
   "source": [
    "# RNN 모델을 위한 변수 설정\n",
    "\n",
    "time_step = 1e-3    # 시간 상수(시간 단위, 0.001)\n",
    "nb_steps = 200      # 시간 상수 개수(0.001 * 200 = 0.2초 시뮬레이션)"
   ]
  },
  {
   "cell_type": "code",
   "execution_count": 4,
   "metadata": {},
   "outputs": [],
   "source": [
    "# 병렬성을 위해 배치사이즈 지정\n",
    "\n",
    "batch_size = 256 # 신경망 배치 크기 지정"
   ]
  },
  {
   "cell_type": "code",
   "execution_count": null,
   "metadata": {},
   "outputs": [],
   "source": [
    "dtype = torch.float\n",
    "device = torch.device(\"cpu\")"
   ]
  }
 ],
 "metadata": {
  "kernelspec": {
   "display_name": "SNN",
   "language": "python",
   "name": "python3"
  },
  "language_info": {
   "codemirror_mode": {
    "name": "ipython",
    "version": 3
   },
   "file_extension": ".py",
   "mimetype": "text/x-python",
   "name": "python",
   "nbconvert_exporter": "python",
   "pygments_lexer": "ipython3",
   "version": "3.10.0"
  }
 },
 "nbformat": 4,
 "nbformat_minor": 2
}
